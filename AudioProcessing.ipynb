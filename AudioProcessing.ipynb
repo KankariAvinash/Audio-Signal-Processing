{
 "cells": [
  {
   "cell_type": "markdown",
   "metadata": {},
   "source": [
    "Importing all necessary packages"
   ]
  },
  {
   "cell_type": "code",
   "execution_count": null,
   "metadata": {},
   "outputs": [],
   "source": [
    "import numpy as np\n",
    "import matplotlib.pyplot as plt\n",
    "import librosa as lib\n",
    "from QAM_Mapper import QAM_Mapper"
   ]
  },
  {
   "cell_type": "markdown",
   "metadata": {},
   "source": [
    "Extract sound in .wav format using librosa"
   ]
  },
  {
   "cell_type": "code",
   "execution_count": null,
   "metadata": {},
   "outputs": [],
   "source": [
    "data,samplingRate = lib.load('harvard.wav',sr=None)\n",
    "print(f'Sampling Rate : {samplingRate}')\n",
    "print(f'Data Length : {len(data)}')"
   ]
  },
  {
   "cell_type": "markdown",
   "metadata": {},
   "source": [
    "Convert continous data into digital data"
   ]
  },
  {
   "cell_type": "code",
   "execution_count": null,
   "metadata": {},
   "outputs": [],
   "source": [
    "time = np.arange(0,len(data)/samplingRate,1/samplingRate)\n",
    "AvgVoltage = 10*np.log10(np.mean(np.abs(data)))\n",
    "Bandwidth = 2 * samplingRate\n",
    "DigSource = np.where(np.abs(data)<=np.power(10,AvgVoltage/10)/2,0,1)\n",
    "\n",
    "qam = QAM_Mapper(num_bits_per_symbol = 4)\n",
    "mapper = qam.qam_modulation(DigSource)\n",
    "sink = qam.qam_demodulation(mapper)\n"
   ]
  },
  {
   "cell_type": "markdown",
   "metadata": {},
   "source": []
  },
  {
   "cell_type": "markdown",
   "metadata": {},
   "source": []
  }
 ],
 "metadata": {
  "kernelspec": {
   "display_name": "audio",
   "language": "python",
   "name": "python3"
  },
  "language_info": {
   "codemirror_mode": {
    "name": "ipython",
    "version": 3
   },
   "file_extension": ".py",
   "mimetype": "text/x-python",
   "name": "python",
   "nbconvert_exporter": "python",
   "pygments_lexer": "ipython3",
   "version": "3.8.10"
  }
 },
 "nbformat": 4,
 "nbformat_minor": 2
}
